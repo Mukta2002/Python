{
  "nbformat": 4,
  "nbformat_minor": 0,
  "metadata": {
    "colab": {
      "name": "Loop examples homework.ipynb",
      "provenance": [],
      "collapsed_sections": []
    },
    "kernelspec": {
      "name": "python3",
      "display_name": "Python 3"
    },
    "language_info": {
      "name": "python"
    }
  },
  "cells": [
    {
      "cell_type": "code",
      "execution_count": null,
      "metadata": {
        "colab": {
          "base_uri": "https://localhost:8080/"
        },
        "id": "vwj4o2uV8Qh1",
        "outputId": "3f2c9cf2-db17-422a-b888-6e93700aac9d"
      },
      "outputs": [
        {
          "output_type": "stream",
          "name": "stdout",
          "text": [
            "20\n",
            "18\n",
            "16\n",
            "14\n",
            "12\n",
            "10\n",
            "8\n",
            "6\n",
            "4\n",
            "2\n"
          ]
        }
      ],
      "source": [
        "#Print first 10 even numbers / reverse \n",
        "n1=20;\n",
        "while n1>=2:\n",
        "    print(n1)\n",
        "    n1=n1-2"
      ]
    },
    {
      "cell_type": "code",
      "source": [
        "#10,20,30,40,.........................200. Using While Loop PRINT the series \n",
        "n=10;\n",
        "while n<=200:\n",
        "    print(n)\n",
        "    n=n+10"
      ],
      "metadata": {
        "colab": {
          "base_uri": "https://localhost:8080/"
        },
        "id": "968LC_Qa8m7d",
        "outputId": "a66092f3-9e0a-4f76-d9df-94a2393c5bb5"
      },
      "execution_count": null,
      "outputs": [
        {
          "output_type": "stream",
          "name": "stdout",
          "text": [
            "10\n",
            "20\n",
            "30\n",
            "40\n",
            "50\n",
            "60\n",
            "70\n",
            "80\n",
            "90\n",
            "100\n",
            "110\n",
            "120\n",
            "130\n",
            "140\n",
            "150\n",
            "160\n",
            "170\n",
            "180\n",
            "190\n",
            "200\n"
          ]
        }
      ]
    },
    {
      "cell_type": "code",
      "source": [
        "#Write a program to print a table entered from a user \n",
        "num=int(input(\"Enter number whose table is required to find:\"))\n",
        "i=1\n",
        "while i<=10:\n",
        "    print(num,\"*\",i,\"=\",num*i)\n",
        "    i=i+1"
      ],
      "metadata": {
        "colab": {
          "base_uri": "https://localhost:8080/"
        },
        "id": "MvmqrKD38sLO",
        "outputId": "039b7501-4a5a-4756-f3c6-74720f98b8af"
      },
      "execution_count": null,
      "outputs": [
        {
          "output_type": "stream",
          "name": "stdout",
          "text": [
            "Enter number whose table is required to find:4\n",
            "4 * 1 = 4\n",
            "4 * 2 = 8\n",
            "4 * 3 = 12\n",
            "4 * 4 = 16\n",
            "4 * 5 = 20\n",
            "4 * 6 = 24\n",
            "4 * 7 = 28\n",
            "4 * 8 = 32\n",
            "4 * 9 = 36\n",
            "4 * 10 = 40\n"
          ]
        }
      ]
    },
    {
      "cell_type": "code",
      "source": [
        "#Write a program to reverse the number entered by the user. FoR ex :- 123 = 321\n",
        "i=int(input(\"Enter any number:\"))\n",
        "r=0\n",
        "while i>0:\n",
        "    remainder = i % 10  \n",
        "    r = (r*10) + remainder  \n",
        "    i = i // 10  \n",
        "print(r,\"is the reversed Number\")  "
      ],
      "metadata": {
        "colab": {
          "base_uri": "https://localhost:8080/"
        },
        "id": "Qe_5h8s88yij",
        "outputId": "5e8b233d-81a5-4573-a946-7d254c4238bb"
      },
      "execution_count": null,
      "outputs": [
        {
          "output_type": "stream",
          "name": "stdout",
          "text": [
            "Enter any number:235\n",
            "532 is the reversed Number\n"
          ]
        }
      ]
    },
    {
      "cell_type": "code",
      "source": [
        "#Write a Program to find a factorial for the user\n",
        "num=int(input(\"Enter number:\"))\n",
        "z=num\n",
        "fact = 1\n",
        "while num >= 1:\n",
        "        fact = fact * num\n",
        "        num = num - 1\n",
        "        \n",
        "print(\"Factorial of\",z,\"is\",fact)"
      ],
      "metadata": {
        "colab": {
          "base_uri": "https://localhost:8080/"
        },
        "id": "w9WRwKa584Yb",
        "outputId": "28fb0cd6-345e-4300-e834-b0bc5b8feb6c"
      },
      "execution_count": null,
      "outputs": [
        {
          "output_type": "stream",
          "name": "stdout",
          "text": [
            "Enter number:5\n",
            "Factorial of 5 is 120\n"
          ]
        }
      ]
    },
    {
      "cell_type": "code",
      "source": [
        "#Write a program to check whether the number is palindrome or not (Palindrom = 1234321)\n",
        "p=int(input(\"Enter number:\"))\n",
        "z=p\n",
        "r=0\n",
        "while p>0:\n",
        "    remainder = p % 10  \n",
        "    r = (r*10) + remainder  \n",
        "    p = p // 10  \n",
        "\n",
        "if(r==z):\n",
        "    print(z,\"is a PALINDROME\")\n",
        "else:\n",
        "    print(z,\"is not a PALINDROME\")"
      ],
      "metadata": {
        "colab": {
          "base_uri": "https://localhost:8080/"
        },
        "id": "NnjxoyU889vX",
        "outputId": "4ad2c2c2-4766-4280-a733-fd2c682229a3"
      },
      "execution_count": null,
      "outputs": [
        {
          "output_type": "stream",
          "name": "stdout",
          "text": [
            "Enter number:12321\n",
            "12321 is a PALINDROME\n"
          ]
        }
      ]
    },
    {
      "cell_type": "code",
      "source": [
        "#Write a Program to print all the characters in your name.\n",
        "name=input(\"Enter your name:\")\n",
        "i=0\n",
        "while (i<len(name)):\n",
        "    print(name[i])\n",
        "    i=i+1"
      ],
      "metadata": {
        "colab": {
          "base_uri": "https://localhost:8080/"
        },
        "id": "4oTmq3Lr9L_H",
        "outputId": "74dcd9d7-731c-4500-e6a4-08fb375ffc02"
      },
      "execution_count": null,
      "outputs": [
        {
          "output_type": "stream",
          "name": "stdout",
          "text": [
            "Enter your name:apple\n",
            "a\n",
            "p\n",
            "p\n",
            "l\n",
            "e\n"
          ]
        }
      ]
    },
    {
      "cell_type": "code",
      "source": [
        "# Write a Program to print all the factors of a number entered by a user.\n",
        "m=int(input(\"Factors of number:\"))\n",
        "i=1\n",
        "while (i<=m):\n",
        "    if (m%i==0):\n",
        "        print(i)\n",
        "    i=i+1\n",
        "    "
      ],
      "metadata": {
        "colab": {
          "base_uri": "https://localhost:8080/"
        },
        "id": "h22B5-tb9R2r",
        "outputId": "78406921-b67e-4ea3-9772-7c6f139af009"
      },
      "execution_count": null,
      "outputs": [
        {
          "output_type": "stream",
          "name": "stdout",
          "text": [
            "Factors of number:21\n",
            "1\n",
            "3\n",
            "7\n",
            "21\n"
          ]
        }
      ]
    }
  ]
}