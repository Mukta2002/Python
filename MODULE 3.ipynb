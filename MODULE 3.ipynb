{
 "cells": [
  {
   "cell_type": "code",
   "execution_count": null,
   "id": "64e9a8ff",
   "metadata": {},
   "outputs": [],
   "source": [
    "# What is list? How will you reverse a list?\n",
    "\"\"\"\n",
    "List refers to a single variable that stores multiple values in it.We can reverse a list by using negative indexing\n",
    "or by using reverse()function.\n",
    "\"\"\""
   ]
  },
  {
   "cell_type": "code",
   "execution_count": 1,
   "id": "2af4e322",
   "metadata": {},
   "outputs": [
    {
     "name": "stdout",
     "output_type": "stream",
     "text": [
      "[11, 2, 77, 21]\n"
     ]
    }
   ],
   "source": [
    "# How will you remove last object from a list?\n",
    "L=[11,2,77,21,90]\n",
    "del L[-1]\n",
    "print(L)"
   ]
  },
  {
   "cell_type": "code",
   "execution_count": 2,
   "id": "665ac23b",
   "metadata": {},
   "outputs": [
    {
     "name": "stdout",
     "output_type": "stream",
     "text": [
      "25\n"
     ]
    }
   ],
   "source": [
    "#Suppose list1 is [2, 33, 222, 14, and 25], what is list1 [-1]?\n",
    "list1= [2, 33, 222, 14, 25]\n",
    "print(list1[-1])"
   ]
  },
  {
   "cell_type": "code",
   "execution_count": null,
   "id": "dd63383d",
   "metadata": {},
   "outputs": [],
   "source": [
    "# Differentiate between append() and extend() methods\n",
    "\"\"\"\n",
    "append() adds a single element to the end of the list while extend() can add multiple individual elements\n",
    "to the end of the list.\n",
    "\"\"\""
   ]
  },
  {
   "cell_type": "code",
   "execution_count": 5,
   "id": "bff42998",
   "metadata": {},
   "outputs": [
    {
     "name": "stdout",
     "output_type": "stream",
     "text": [
      "Largest number is 33 and smallest number is -2\n",
      "Sum of all elements is: 40\n"
     ]
    }
   ],
   "source": [
    "# Write a python function to get the largest number,smallest number and sum of all from a list\n",
    "\n",
    "def my_list(l):\n",
    " sum=0\n",
    " for i in l:\n",
    "    sum=sum+i\n",
    "    \n",
    " print(\"Largest number is\", max(l),\"and smallest number is\",min(l))\n",
    " print(\"Sum of all elements is:\",sum)\n",
    "\n",
    "my_list([-2,5,33,4])"
   ]
  },
  {
   "cell_type": "code",
   "execution_count": 1,
   "id": "d62ef857",
   "metadata": {},
   "outputs": [
    {
     "name": "stdout",
     "output_type": "stream",
     "text": [
      "Original List: [11, 12, 13, 14, 15, 15, 16, 17, 17, 17, 17]\n",
      "New List: [11, 12, 13, 14, 15, 16, 17]\n"
     ]
    }
   ],
   "source": [
    "# Write a Python program to remove duplicates from a list.\n",
    "l1=[11,12,13,14,15,15,16,17,17,17,17]\n",
    "print(\"Original List:\",l1)\n",
    "x=set(l1)\n",
    "l1=list(x)\n",
    "print(\"New List:\",l1)"
   ]
  },
  {
   "cell_type": "code",
   "execution_count": null,
   "id": "438ac9c3",
   "metadata": {},
   "outputs": [],
   "source": [
    "# Write a Python program to check a list is empty or not.\n",
    "my_list = []\n",
    "n=int(input(\"No. of elements in List=\"))\n",
    "\n",
    "for i in range(1,n+1):\n",
    "    my_list.append(int(input()))\n",
    "print(my_list)\n",
    "\n",
    "if len(my_list)==0:\n",
    "    print(\"Empty List\")\n",
    "else:\n",
    "    print(\"List is Not Empty\")\n"
   ]
  },
  {
   "cell_type": "code",
   "execution_count": 21,
   "id": "f94d815e",
   "metadata": {},
   "outputs": [
    {
     "data": {
      "text/plain": [
       "True"
      ]
     },
     "execution_count": 21,
     "metadata": {},
     "output_type": "execute_result"
    }
   ],
   "source": [
    "# Write a python function that takes two lists and returns true if they have at least one common member\n",
    "\n",
    "def list_1(l1,l2):\n",
    "  r=False\n",
    "  for x in l1:\n",
    "    for y in l2:\n",
    "        if x==y:\n",
    "            r=True\n",
    "            return r\n",
    "\n",
    "list_1([2,3,4,5,6],[2,3,8,9,10])"
   ]
  },
  {
   "cell_type": "code",
   "execution_count": 7,
   "id": "e2a00a2f",
   "metadata": {},
   "outputs": [
    {
     "name": "stdout",
     "output_type": "stream",
     "text": [
      "[1, 4, 9, 16, 25, 36, 49, 64, 81, 100, 121, 144, 169, 196, 225, 256, 289, 324, 361, 400, 441, 484, 529, 576, 625, 676, 729, 784, 841, 900]\n",
      "First five elements of list are: [1, 4, 9, 16, 25]\n",
      "Last five elements of list are: [676, 729, 784, 841, 900]\n"
     ]
    }
   ],
   "source": [
    "#Write a Python program to generate and print a list of first and last 5 elements where the values\n",
    "#are square of numbers between 1 and 30.\n",
    "list1 = [ ]\n",
    "for i in range(1,31):\n",
    "    list1 += [ i**2 ]\n",
    "print(list1)\n",
    "print(\"First five elements of list are:\",list1[0:5])\n",
    "print(\"Last five elements of list are:\",list1[-5:])"
   ]
  },
  {
   "cell_type": "code",
   "execution_count": 6,
   "id": "830bed0f",
   "metadata": {},
   "outputs": [
    {
     "data": {
      "text/plain": [
       "[8, 7, 6, 5, 4]"
      ]
     },
     "execution_count": 6,
     "metadata": {},
     "output_type": "execute_result"
    }
   ],
   "source": [
    "# Write a python function that takes a list and returns a new list with unique elements of the first list\n",
    "\n",
    "def unique_list(l):\n",
    "  x =[]\n",
    "  for a in l:\n",
    "    if a not in x:\n",
    "      x.append(a)\n",
    "  return(x)\n",
    "\n",
    "unique_list([8,8,7,6,5,5,5,4])"
   ]
  },
  {
   "cell_type": "code",
   "execution_count": 3,
   "id": "c7050ea8",
   "metadata": {},
   "outputs": [
    {
     "name": "stdout",
     "output_type": "stream",
     "text": [
      "Computer\n"
     ]
    }
   ],
   "source": [
    "# Write a python program to convert a list of characters into a string\n",
    "\n",
    "list1=[\"C\",\"o\",\"m\",\"p\",\"u\",\"t\",\"e\",\"r\"]\n",
    "str=\"\"\n",
    "for i in list1:\n",
    "    str=str+i\n",
    "    \n",
    "print(str)"
   ]
  },
  {
   "cell_type": "code",
   "execution_count": null,
   "id": "21f3115e",
   "metadata": {},
   "outputs": [],
   "source": [
    "# What is Tuple?difference between list and tuple\n",
    "\"\"\"\n",
    "Tuple refers to a collection of  multiple items stored in a single variable.Difference between list \n",
    "and tuple is that List is changeable while tuple is unchangeable in nature.\n",
    "\"\"\""
   ]
  },
  {
   "cell_type": "code",
   "execution_count": 3,
   "id": "9b74546e",
   "metadata": {},
   "outputs": [
    {
     "name": "stdout",
     "output_type": "stream",
     "text": [
      "('Cherry', 8.88, False, 12)\n"
     ]
    }
   ],
   "source": [
    "# Write a Python program to create a tuple with different data types.\n",
    "t=(\"Cherry\",8.88,False,12)\n",
    "print(t)"
   ]
  },
  {
   "cell_type": "code",
   "execution_count": 4,
   "id": "f24558b5",
   "metadata": {},
   "outputs": [
    {
     "name": "stdout",
     "output_type": "stream",
     "text": [
      "(12, 8.2, 2.0005, 33)\n"
     ]
    }
   ],
   "source": [
    "# Write a Python program to create a tuple with numbers.\n",
    "t1=(12,8.2,2.0005,33)\n",
    "print(t1)"
   ]
  },
  {
   "cell_type": "code",
   "execution_count": 8,
   "id": "36ee9bcc",
   "metadata": {},
   "outputs": [
    {
     "name": "stdout",
     "output_type": "stream",
     "text": [
      "Python\n"
     ]
    }
   ],
   "source": [
    "# Write a Python program to convert a tuple to a string.\n",
    "tup=('P','y','t','h','o','n')\n",
    "str = ''.join(tup)\n",
    "print (str)\n"
   ]
  },
  {
   "cell_type": "code",
   "execution_count": 15,
   "id": "de5d4a60",
   "metadata": {},
   "outputs": [
    {
     "name": "stdout",
     "output_type": "stream",
     "text": [
      "(55, 76, 63, 11)\n",
      "55\n",
      "55 exists in Tuple\n"
     ]
    }
   ],
   "source": [
    "#Write a Python program to check whether an element exists within a tuple.\n",
    "x=(55,76,63,11)\n",
    "print(x)\n",
    "z=int(input(\"\"))\n",
    "if z in x:\n",
    "  print(z,\"exists in Tuple\")\n",
    "else:\n",
    "    print(z,\"doesnot exist in Tuple\")"
   ]
  },
  {
   "cell_type": "code",
   "execution_count": 17,
   "id": "566b5289",
   "metadata": {},
   "outputs": [
    {
     "name": "stdout",
     "output_type": "stream",
     "text": [
      "('Cherry', 8.88, False, 12)\n",
      "Length of Tuple is 4\n"
     ]
    }
   ],
   "source": [
    "# Write a Python program to find the length of a tuple.\n",
    "y=(\"Cherry\",8.88,False,12)\n",
    "print(y)\n",
    "print(\"Length of Tuple is\",len(y))"
   ]
  },
  {
   "cell_type": "code",
   "execution_count": 18,
   "id": "40131271",
   "metadata": {},
   "outputs": [
    {
     "name": "stdout",
     "output_type": "stream",
     "text": [
      "(24, 28, 32, 4, 9, 59, 66, 66, 80)\n"
     ]
    }
   ],
   "source": [
    "# Write a Python program to convert a list to a tuple.\n",
    "L=[24,28,32,4,9,59,66,66,80]\n",
    "R=tuple(L)\n",
    "print(R)"
   ]
  },
  {
   "cell_type": "code",
   "execution_count": 4,
   "id": "698fd273",
   "metadata": {},
   "outputs": [
    {
     "name": "stdout",
     "output_type": "stream",
     "text": [
      "('Apple', 'Mango', 28, 'Banana', 'Grapes', 'Kiwi', 19)\n",
      "Reversed Tuple is: (19, 'Kiwi', 'Grapes', 'Banana', 28, 'Mango', 'Apple')\n"
     ]
    }
   ],
   "source": [
    "# Write a Python program to reverse a tuple\n",
    "t=(\"Apple\",\"Mango\",28,\"Banana\",\"Grapes\",\"Kiwi\",19)\n",
    "print(t)\n",
    "print(\"Reversed Tuple is:\",tuple(reversed(t)))"
   ]
  },
  {
   "cell_type": "code",
   "execution_count": 28,
   "id": "4c1ef907",
   "metadata": {},
   "outputs": [
    {
     "name": "stdout",
     "output_type": "stream",
     "text": [
      "[(3, 4, 18, 100), (9, 10, 100), (7, 4, 100)]\n"
     ]
    }
   ],
   "source": [
    "# Write a python program to replace last value of tuples in a list\n",
    "\n",
    "t=[(3,4,18,22),(9,10,22),(7,4,2)]\n",
    "print([i[:-1] + (100,) for i in t])"
   ]
  },
  {
   "cell_type": "code",
   "execution_count": 29,
   "id": "04dd4efe",
   "metadata": {},
   "outputs": [
    {
     "name": "stdout",
     "output_type": "stream",
     "text": [
      "(1, 2, 5, 5, 7, 8, 9, 9, 9)\n",
      "Enter no :9\n",
      "9 is repeated 3 times in the given tuple\n"
     ]
    }
   ],
   "source": [
    "# Write a python program to find the repeated items of a tuple\n",
    "\n",
    "m_t=(1,2,5,5,7,8,9,9,9)\n",
    "print(m_t)\n",
    "i=int(input(\"Enter no :\"))\n",
    "count= m_t.count(i)\n",
    "if count>1:\n",
    "    print(i,\"is repeated\",count,\"times in the given tuple\")\n",
    "else:\n",
    "    print(i,\"is there only once in the tuple\")\n",
    "        \n",
    "        "
   ]
  },
  {
   "cell_type": "code",
   "execution_count": 28,
   "id": "0ea9a111",
   "metadata": {},
   "outputs": [
    {
     "name": "stdout",
     "output_type": "stream",
     "text": [
      "[(1, 2, 9), (8, 5)]\n"
     ]
    }
   ],
   "source": [
    "# Write a python program to remove empty tuples from a list of tuples\n",
    "\n",
    "z=[(1,2,9),(),(8,5),()]\n",
    "for i in z:\n",
    "    if len(i)==0:\n",
    "        z.remove(i)\n",
    "print(z)"
   ]
  },
  {
   "cell_type": "code",
   "execution_count": 54,
   "id": "0069a9ac",
   "metadata": {},
   "outputs": [
    {
     "name": "stdout",
     "output_type": "stream",
     "text": [
      "{'k1': 11, 'k2': 12, 'k3': 13}\n"
     ]
    }
   ],
   "source": [
    "# Write a python program to convert a list of tuples into dictionary\n",
    "x = [(\"k1\",11),(\"k2\",12),(\"k3\",13)]\n",
    "result = dict(x)\n",
    "print(result)\n"
   ]
  },
  {
   "cell_type": "code",
   "execution_count": 38,
   "id": "fca93f56",
   "metadata": {},
   "outputs": [
    {
     "name": "stdout",
     "output_type": "stream",
     "text": [
      "Factorial of 6 is 720\n"
     ]
    }
   ],
   "source": [
    "# Write a python function to calculate the factorial of a number\n",
    "def facto(num):\n",
    " z=num\n",
    " fact=1\n",
    " while num >= 1:\n",
    "     fact = fact * num\n",
    "     num = num - 1\n",
    "        \n",
    " print(\"Factorial of\",z,\"is\",fact)\n",
    "\n",
    "facto(6)"
   ]
  },
  {
   "cell_type": "code",
   "execution_count": 46,
   "id": "ddd70170",
   "metadata": {},
   "outputs": [
    {
     "name": "stdout",
     "output_type": "stream",
     "text": [
      "15 lies within given range of 10-20\n"
     ]
    }
   ],
   "source": [
    "# Write a python function to check whether a number is in a given range\n",
    "\n",
    "def check(num):\n",
    "    if num in range(10,20):\n",
    "        print(num,\"lies within given range of 10-20\")\n",
    "    else:\n",
    "        print(num,\"is out of given range\")\n",
    "        \n",
    "check(15)"
   ]
  },
  {
   "cell_type": "code",
   "execution_count": 58,
   "id": "762b3554",
   "metadata": {},
   "outputs": [
    {
     "name": "stdout",
     "output_type": "stream",
     "text": [
      "28 is a perfect number\n"
     ]
    }
   ],
   "source": [
    "# Write a python function to check whether a number is perfect or not\n",
    "\n",
    "def perfect(num):\n",
    " sum=0\n",
    " for i in range(1,num):\n",
    "     if num%i==0:\n",
    "         sum=sum+i\n",
    "    \n",
    " if sum==num:\n",
    "     print(num,\"is a perfect number\")\n",
    " else:\n",
    "     print(num,\"is not a perfect number\")\n",
    "\n",
    "perfect(28)"
   ]
  },
  {
   "cell_type": "code",
   "execution_count": 70,
   "id": "7d3fd4f6",
   "metadata": {},
   "outputs": [
    {
     "name": "stdout",
     "output_type": "stream",
     "text": [
      "MADAM  is a Palindrome\n"
     ]
    }
   ],
   "source": [
    "# Write a python function that checks whether a passed string is palindrome or not.\n",
    "\n",
    "def palin(s):\n",
    "    l=len(s)\n",
    "    j=l-1\n",
    "    i=0\n",
    "    if s[i]==s[j]:\n",
    "        i=i+1\n",
    "        j=j-1\n",
    "        print(s,\" is a Palindrome\")\n",
    "    else:\n",
    "        print(s,\"is not a Palindrome\")\n",
    "\n",
    "palin(\"MADAM\")"
   ]
  },
  {
   "cell_type": "code",
   "execution_count": 75,
   "id": "4ea2c464",
   "metadata": {},
   "outputs": [
    {
     "name": "stdout",
     "output_type": "stream",
     "text": [
      "Input degrees: 180\n",
      "180.0 degree= 3.142857142857143 radian\n"
     ]
    }
   ],
   "source": [
    "# Write a python program to convert degree to radian\n",
    "d2r = float(input(\"Input degrees: \"))\n",
    "pi=22/7\n",
    "radian = d2r*(pi/180)\n",
    "print(d2r,\"degree=\",radian,\"radian\")"
   ]
  },
  {
   "cell_type": "code",
   "execution_count": 77,
   "id": "992c11a8",
   "metadata": {},
   "outputs": [
    {
     "name": "stdout",
     "output_type": "stream",
     "text": [
      "Enter Height of Trapezoid:4\n",
      "Enter First Base of Trapezoid:5\n",
      "Enter Second Base of Trapezoid:3\n",
      "Area of Trapezoid is 16.0\n"
     ]
    }
   ],
   "source": [
    "# Write a python program to calculate area of trapezoid\n",
    "\n",
    "h=float(input(\"Enter Height of Trapezoid:\"))\n",
    "b1=float(input(\"Enter First Base of Trapezoid:\"))\n",
    "b2=float(input(\"Enter Second Base of Trapezoid:\"))\n",
    "area=((b1+b2)/2)*h\n",
    "print(\"Area of Trapezoid is\",area)\n"
   ]
  },
  {
   "cell_type": "code",
   "execution_count": 78,
   "id": "d2126a6a",
   "metadata": {},
   "outputs": [
    {
     "name": "stdout",
     "output_type": "stream",
     "text": [
      "Enter Height of Parallelogram:11\n",
      "Enter Base of Parallelogram:5\n",
      "Area of parallelogram is 55.0\n"
     ]
    }
   ],
   "source": [
    "# Write a python program to calculate area of parallelogram\n",
    "\n",
    "h1=float(input(\"Enter Height of Parallelogram:\"))\n",
    "b1=float(input(\"Enter Base of Parallelogram:\"))\n",
    "area=h1*b1\n",
    "print(\"Area of parallelogram is\",area)"
   ]
  },
  {
   "cell_type": "code",
   "execution_count": 82,
   "id": "3a5e7d44",
   "metadata": {},
   "outputs": [
    {
     "name": "stdout",
     "output_type": "stream",
     "text": [
      "Enter radius of cylinder:4\n",
      "Enter height of cylinder:5\n",
      "Curved Surface Area of cylinder is 125.71428571428571\n",
      "Total Surface Area of cylinder is 176.0\n",
      "Volume of cylinder is 251.42857142857142\n"
     ]
    }
   ],
   "source": [
    "# Write a python program to calculate surface area and volume of cylinder\n",
    "\n",
    "r=float(input(\"Enter radius of cylinder:\"))\n",
    "h=float(input(\"Enter height of cylinder:\"))\n",
    "pi=22/7\n",
    "vol=pi*r*r*h\n",
    "csur=2*pi*r*h\n",
    "tsur=(2*pi*r*h+pi*r*r)\n",
    "print(\"Curved Surface Area of cylinder is\",csur)\n",
    "print(\"Total Surface Area of cylinder is\",tsur)\n",
    "print(\"Volume of cylinder is\",vol)\n"
   ]
  },
  {
   "cell_type": "code",
   "execution_count": 86,
   "id": "5ea9c148",
   "metadata": {},
   "outputs": [
    {
     "name": "stdout",
     "output_type": "stream",
     "text": [
      "Enter number:9\n",
      "Sum of all divisors of 9 is 13\n"
     ]
    }
   ],
   "source": [
    "#Write a python program that returns sum of all divisors of a number\n",
    "\n",
    "p=int(input(\"Enter number:\"))\n",
    "sum=0\n",
    "for i in range(1,p+1):\n",
    "    if p%i==0:\n",
    "        sum=sum+i\n",
    "print(\"Sum of all divisors of\",p,\"is\",sum)"
   ]
  },
  {
   "cell_type": "code",
   "execution_count": 88,
   "id": "259c06bc",
   "metadata": {},
   "outputs": [
    {
     "name": "stdout",
     "output_type": "stream",
     "text": [
      "Maximum Value= 11.3\n",
      "Minimum Value= -6.1\n"
     ]
    }
   ],
   "source": [
    "# Write a python program to find the maximum and minimum numbers from the specified decimal numbers\n",
    "data=[11.3,4.9,0.07,-6.1]\n",
    "print(\"Maximum Value=\",max(data))\n",
    "print(\"Minimum Value=\",min(data))"
   ]
  },
  {
   "cell_type": "code",
   "execution_count": null,
   "id": "25992158",
   "metadata": {},
   "outputs": [],
   "source": []
  }
 ],
 "metadata": {
  "kernelspec": {
   "display_name": "Python 3 (ipykernel)",
   "language": "python",
   "name": "python3"
  },
  "language_info": {
   "codemirror_mode": {
    "name": "ipython",
    "version": 3
   },
   "file_extension": ".py",
   "mimetype": "text/x-python",
   "name": "python",
   "nbconvert_exporter": "python",
   "pygments_lexer": "ipython3",
   "version": "3.10.5"
  }
 },
 "nbformat": 4,
 "nbformat_minor": 5
}
