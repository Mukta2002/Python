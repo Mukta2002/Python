{
 "cells": [
  {
   "cell_type": "code",
   "execution_count": null,
   "id": "1f118b23",
   "metadata": {},
   "outputs": [],
   "source": [
    "# How to define a Class in python?What is self? Give an example of a python class\n",
    "\"\"\"\n",
    "A class in python refers to readymade format or blue print from which objects can be made.\n",
    "Self is used to represent the instance of the class. With this keyword, you can access the\n",
    "attributes and methods of the class in python. \n",
    "For example:\n",
    "We create a class named Person, using the __init__() function to assign values for name:\n",
    "class Person:\n",
    "  def __init__(self, name):\n",
    "    self.name = name\n",
    "    \n",
    "\"\"\""
   ]
  },
  {
   "cell_type": "code",
   "execution_count": 4,
   "id": "0c70ff0c",
   "metadata": {},
   "outputs": [],
   "source": [
    "# Write a python class named Rectangle constructed by a length and width and a method that will compute its area\n",
    "class Rectangle:\n",
    "\n",
    "  def __init__(self,length,breadth):\n",
    "    self.length=length\n",
    "    self.breadth=breadth\n",
    "\n",
    "  def rect_area(self):\n",
    "    return self.length*self.breadth\n",
    "    "
   ]
  },
  {
   "cell_type": "code",
   "execution_count": 8,
   "id": "e3609433",
   "metadata": {},
   "outputs": [
    {
     "name": "stdout",
     "output_type": "stream",
     "text": [
      "Area of rectangle: 72\n"
     ]
    }
   ],
   "source": [
    "a=Rectangle(6,12)\n",
    "print(\"Area of rectangle:\",a.rect_area())"
   ]
  },
  {
   "cell_type": "code",
   "execution_count": 13,
   "id": "b3468836",
   "metadata": {},
   "outputs": [],
   "source": [
    "# Write a python class named Circle constructed by radius and two methods which will compute its area and perimeter\n",
    "\n",
    "class Circle:\n",
    "    \n",
    "    def __init__(self,radius):\n",
    "        self.radius=radius\n",
    "        \n",
    "    def circle_area(self):\n",
    "        pi=22/7\n",
    "        return pi* self.radius* self.radius\n",
    "    \n",
    "    def circle_peri(self):\n",
    "        pi=22/7\n",
    "        return 2*pi* self.radius\n",
    "        "
   ]
  },
  {
   "cell_type": "code",
   "execution_count": 14,
   "id": "569b054a",
   "metadata": {},
   "outputs": [
    {
     "name": "stdout",
     "output_type": "stream",
     "text": [
      "Area of circle: 154.0\n",
      "Perimeter of circle: 44.0\n"
     ]
    }
   ],
   "source": [
    "c=Circle(7)\n",
    "print(\"Area of circle:\",c.circle_area())\n",
    "print(\"Perimeter of circle:\",c.circle_peri())"
   ]
  },
  {
   "cell_type": "code",
   "execution_count": null,
   "id": "44a8a978",
   "metadata": {},
   "outputs": [],
   "source": []
  }
 ],
 "metadata": {
  "kernelspec": {
   "display_name": "Python 3 (ipykernel)",
   "language": "python",
   "name": "python3"
  },
  "language_info": {
   "codemirror_mode": {
    "name": "ipython",
    "version": 3
   },
   "file_extension": ".py",
   "mimetype": "text/x-python",
   "name": "python",
   "nbconvert_exporter": "python",
   "pygments_lexer": "ipython3",
   "version": "3.10.5"
  }
 },
 "nbformat": 4,
 "nbformat_minor": 5
}
