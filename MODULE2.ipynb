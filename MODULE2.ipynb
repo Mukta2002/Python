{
 "cells": [
  {
   "cell_type": "code",
   "execution_count": 11,
   "id": "2ac90519",
   "metadata": {},
   "outputs": [
    {
     "name": "stdout",
     "output_type": "stream",
     "text": [
      "Enter any number:-19\n",
      "Negative number\n"
     ]
    }
   ],
   "source": [
    "#Write a Python program to check if a number is positive, negative or zero.\n",
    "\n",
    "num1=int(input(\"Enter any number:\"))\n",
    "if num1>0:\n",
    "    print(\"Positive number\")\n",
    "elif num1<0:\n",
    "    print(\"Negative number\")\n",
    "else:\n",
    "    print(\"Zero\")\n"
   ]
  },
  {
   "cell_type": "code",
   "execution_count": 1,
   "id": "eb964e7c",
   "metadata": {},
   "outputs": [
    {
     "name": "stdout",
     "output_type": "stream",
     "text": [
      "Enter number:5\n",
      "Factorial of 5 is 120\n"
     ]
    }
   ],
   "source": [
    "#Write a Python program to get the Factorial number of given number.\n",
    "num=int(input(\"Enter number:\"))\n",
    "z=num\n",
    "fact = 1\n",
    "while num >= 1:\n",
    "        fact = fact * num\n",
    "        num = num - 1\n",
    "        \n",
    "print(\"Factorial of\",z,\"is\",fact)\n"
   ]
  },
  {
   "cell_type": "code",
   "execution_count": 12,
   "id": "51e11f81",
   "metadata": {},
   "outputs": [
    {
     "name": "stdout",
     "output_type": "stream",
     "text": [
      "Enter the Range Number: 6\n",
      "0\n",
      "1\n",
      "1\n",
      "2\n",
      "3\n",
      "5\n"
     ]
    }
   ],
   "source": [
    "#Write python program to get fibonacci series of given range\n",
    "num = int(input(\"Enter the Range Number: \"))\n",
    "i = 0\n",
    "F_val = 0\n",
    "S_val = 1\n",
    "while(i < num):\n",
    "           if(i <= 1):\n",
    "                      Next = i\n",
    "           else:\n",
    "                      Next = F_val + S_val\n",
    "                      F_val = S_val\n",
    "                      S_val = Next\n",
    "           print(Next)\n",
    "           i = i + 1\n",
    "    "
   ]
  },
  {
   "cell_type": "code",
   "execution_count": null,
   "id": "241c0729",
   "metadata": {},
   "outputs": [],
   "source": [
    "#How memory is managed in python?\n",
    "\"\"\"\n",
    "In Python memory allocation and deallocation method is automatic as the Python developers created\n",
    "a garbage collector for Python so that the user does not have to do manual garbage collection.\n",
    "\"\"\""
   ]
  },
  {
   "cell_type": "code",
   "execution_count": null,
   "id": "2a89f172",
   "metadata": {},
   "outputs": [],
   "source": [
    "#What is purpose of continue statement in python?\n",
    "\"\"\"\n",
    "Continue statement is used to skip the particular iteration in a loop  and move to next iteration.\n",
    "\"\"\""
   ]
  },
  {
   "cell_type": "code",
   "execution_count": 10,
   "id": "5812820e",
   "metadata": {},
   "outputs": [
    {
     "name": "stdout",
     "output_type": "stream",
     "text": [
      "n1:2\n",
      "n2:9\n",
      "After swapping we get n1= 9 and n2= 2\n",
      "a=1\n",
      "b=7\n",
      "After swapping we get a= 7 and b= 1\n"
     ]
    }
   ],
   "source": [
    "#Write python program that swap two number with temp variable and without temp variable.\n",
    "num1=int(input(\"n1:\"))\n",
    "num2=int(input(\"n2:\"))\n",
    "x=num1;\n",
    "num1=num2;\n",
    "num2=x;\n",
    "print( \"After swapping we get n1=\",num1,\"and n2=\",num2)\n",
    "\n",
    "a=int(input(\"a=\"))\n",
    "b=int(input(\"b=\"))\n",
    "a,b=b,a\n",
    "print(\"After swapping we get a=\",a,\"and b=\",b)"
   ]
  },
  {
   "cell_type": "code",
   "execution_count": 10,
   "id": "2826aa14",
   "metadata": {},
   "outputs": [
    {
     "name": "stdout",
     "output_type": "stream",
     "text": [
      "Enter any number:12\n",
      "Number is Even\n"
     ]
    }
   ],
   "source": [
    "#Write a Python program to find whether a given number is even or odd,print out an appropriate message to the user.\n",
    "\n",
    "a=int(input(\"Enter any number:\"))\n",
    "if a%2==0:\n",
    "    print(\"Number is Even\")\n",
    "else:\n",
    "    print(\"Number is Odd\")"
   ]
  },
  {
   "cell_type": "code",
   "execution_count": 13,
   "id": "656112c8",
   "metadata": {},
   "outputs": [
    {
     "name": "stdout",
     "output_type": "stream",
     "text": [
      "a= 4\n",
      "b= 5\n",
      "c= 4\n",
      "Sum = 0\n"
     ]
    }
   ],
   "source": [
    "#Write a Python program to sum of three given integers.However, if two values are equal sum will be zero.\n",
    "a=float(input(\"a= \"))\n",
    "b=float(input(\"b= \"))\n",
    "c=float(input(\"c= \"))\n",
    "a+b+c\n",
    "if(a==b or b==c or c==a):\n",
    "    print(\"Sum = 0\")\n",
    "else:\n",
    "    print(\"Sum = \",a+b+c)\n",
    "    "
   ]
  },
  {
   "cell_type": "code",
   "execution_count": 21,
   "id": "56936f88",
   "metadata": {},
   "outputs": [
    {
     "name": "stdout",
     "output_type": "stream",
     "text": [
      "Enter positive number n:5\n",
      "Sum of the first 5 numbers is= 15\n"
     ]
    }
   ],
   "source": [
    "#Write a python program to sum of the first n positive integers.\n",
    "n=int(input(\"Enter positive number n:\"))\n",
    "sum=0;\n",
    "for i in range(1,n+1):\n",
    "    sum=sum+i\n",
    "print(\"Sum of the first\",n, \"numbers is=\",sum)"
   ]
  },
  {
   "cell_type": "code",
   "execution_count": 1,
   "id": "5d6b6f1f",
   "metadata": {},
   "outputs": [
    {
     "name": "stdout",
     "output_type": "stream",
     "text": [
      "Enter any word:Khushali\n",
      "8\n"
     ]
    }
   ],
   "source": [
    "#Write a Python program to calculate the length of a string.\n",
    "\n",
    "a=input(\"Enter any word:\")\n",
    "print(len(a))"
   ]
  },
  {
   "cell_type": "code",
   "execution_count": null,
   "id": "0eb2f18f",
   "metadata": {},
   "outputs": [],
   "source": [
    "#What are negative indexes and why are they used?\n",
    "\"\"\"\n",
    "In python, negative indexing is used to display data from the end of the list and can also be used to reverse\n",
    "a number or string without using other functions.Negative indexing is the act of indexing from the end of the \n",
    "list with indexing starting at -1 i.e. -1 gives the last element of list, -2 gives the second last element of\n",
    "list and so on.\n",
    "\"\"\""
   ]
  },
  {
   "cell_type": "code",
   "execution_count": 3,
   "id": "83fe3720",
   "metadata": {},
   "outputs": [
    {
     "name": "stdout",
     "output_type": "stream",
     "text": [
      "2\n"
     ]
    }
   ],
   "source": [
    "#Write a Python program to count occurrences of a substring in a string.\n",
    "\n",
    "a=(\"Today was a good day,good amount of work was finished by you\")\n",
    "print(a.count(\"good\"))"
   ]
  },
  {
   "cell_type": "code",
   "execution_count": 21,
   "id": "4339ae96",
   "metadata": {},
   "outputs": [
    {
     "name": "stdout",
     "output_type": "stream",
     "text": [
      "The word Economics has the maximum length.Its length is 9\n"
     ]
    }
   ],
   "source": [
    "# Write a Python function that takes a list of words and returns length of longest one\n",
    "def unique_list(l):\n",
    "  x =[]\n",
    "  max1=len(l[0])\n",
    "  temp=l[0]\n",
    "  for i in l:\n",
    "     if(len(i) > max1):\n",
    "         max1 = len(i)\n",
    "         temp = i\n",
    "        \n",
    "  print(\"The word\",temp,\"has the maximum length.Its length is\",max1)\n",
    "\n",
    "unique_list([\"Economics\",\"Physics\",\"Maths\"])"
   ]
  },
  {
   "cell_type": "code",
   "execution_count": 13,
   "id": "2da9b9d9",
   "metadata": {},
   "outputs": [
    {
     "name": "stdout",
     "output_type": "stream",
     "text": [
      "hsnayirP\n"
     ]
    }
   ],
   "source": [
    "# Writa a python function that reverses a string if its length is multiple of 4\n",
    "def reverse_string(s):\n",
    "    s1=len(s)\n",
    "    s2=\"\"\n",
    "    if(s1%4==0):\n",
    "        for i in range(s1-1,-1,-1):\n",
    "            s2=s2+s[i]\n",
    "    \n",
    "    else:\n",
    "        print(\"String length not a multiple of 4\")\n",
    "    print(s2)\n",
    "        \n",
    "reverse_string(\"Priyansh\")"
   ]
  },
  {
   "cell_type": "code",
   "execution_count": 22,
   "id": "54c4e2e9",
   "metadata": {},
   "outputs": [
    {
     "name": "stdout",
     "output_type": "stream",
     "text": [
      "Enter String:python\n",
      "Expected Output: pyon\n"
     ]
    }
   ],
   "source": [
    "#Write a Python program to get a string made of the first 2 and the last 2 chars from a given a string.\n",
    "#If the string length islessthan 2,return instead of the empty string.\n",
    "\n",
    "name=input(\"Enter String:\")\n",
    "if len(name)>=2:\n",
    "    z=name[0:2]+name[-2:]\n",
    "    print(\"Expected Output:\",z)\n",
    "else:\n",
    "    print(\"Empty String\")"
   ]
  },
  {
   "cell_type": "code",
   "execution_count": null,
   "id": "f9756889",
   "metadata": {},
   "outputs": [],
   "source": []
  },
  {
   "cell_type": "code",
   "execution_count": null,
   "id": "f78697a7",
   "metadata": {},
   "outputs": [],
   "source": []
  }
 ],
 "metadata": {
  "kernelspec": {
   "display_name": "Python 3 (ipykernel)",
   "language": "python",
   "name": "python3"
  },
  "language_info": {
   "codemirror_mode": {
    "name": "ipython",
    "version": 3
   },
   "file_extension": ".py",
   "mimetype": "text/x-python",
   "name": "python",
   "nbconvert_exporter": "python",
   "pygments_lexer": "ipython3",
   "version": "3.10.5"
  }
 },
 "nbformat": 4,
 "nbformat_minor": 5
}
